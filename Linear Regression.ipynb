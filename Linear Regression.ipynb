{
 "cells": [
  {
   "cell_type": "code",
   "execution_count": 1,
   "id": "1c8a2bab",
   "metadata": {},
   "outputs": [],
   "source": [
    "import numpy as np\n",
    "import pandas as pd\n"
   ]
  },
  {
   "cell_type": "code",
   "execution_count": 19,
   "id": "f8497f88",
   "metadata": {},
   "outputs": [],
   "source": [
    "df = pd.read_csv(\"training_diabetes_x_y_train.csv\")"
   ]
  },
  {
   "cell_type": "code",
   "execution_count": 20,
   "id": "d6549d63",
   "metadata": {},
   "outputs": [
    {
     "data": {
      "text/html": [
       "<div>\n",
       "<style scoped>\n",
       "    .dataframe tbody tr th:only-of-type {\n",
       "        vertical-align: middle;\n",
       "    }\n",
       "\n",
       "    .dataframe tbody tr th {\n",
       "        vertical-align: top;\n",
       "    }\n",
       "\n",
       "    .dataframe thead th {\n",
       "        text-align: right;\n",
       "    }\n",
       "</style>\n",
       "<table border=\"1\" class=\"dataframe\">\n",
       "  <thead>\n",
       "    <tr style=\"text-align: right;\">\n",
       "      <th></th>\n",
       "      <th># age</th>\n",
       "      <th>sex</th>\n",
       "      <th>bmi</th>\n",
       "      <th>bp</th>\n",
       "      <th>s1</th>\n",
       "      <th>s2</th>\n",
       "      <th>s3</th>\n",
       "      <th>s4</th>\n",
       "      <th>s5</th>\n",
       "      <th>s6</th>\n",
       "      <th>Y</th>\n",
       "    </tr>\n",
       "  </thead>\n",
       "  <tbody>\n",
       "    <tr>\n",
       "      <th>0</th>\n",
       "      <td>-0.049105</td>\n",
       "      <td>-0.044642</td>\n",
       "      <td>0.160855</td>\n",
       "      <td>-0.046985</td>\n",
       "      <td>-0.029088</td>\n",
       "      <td>-0.019790</td>\n",
       "      <td>-0.047082</td>\n",
       "      <td>0.034309</td>\n",
       "      <td>0.028017</td>\n",
       "      <td>0.011349</td>\n",
       "      <td>346.0</td>\n",
       "    </tr>\n",
       "    <tr>\n",
       "      <th>1</th>\n",
       "      <td>-0.070900</td>\n",
       "      <td>0.050680</td>\n",
       "      <td>-0.089197</td>\n",
       "      <td>-0.074528</td>\n",
       "      <td>-0.042848</td>\n",
       "      <td>-0.025739</td>\n",
       "      <td>-0.032356</td>\n",
       "      <td>-0.002592</td>\n",
       "      <td>-0.012908</td>\n",
       "      <td>-0.054925</td>\n",
       "      <td>104.0</td>\n",
       "    </tr>\n",
       "    <tr>\n",
       "      <th>2</th>\n",
       "      <td>0.001751</td>\n",
       "      <td>-0.044642</td>\n",
       "      <td>-0.070875</td>\n",
       "      <td>-0.022885</td>\n",
       "      <td>-0.001569</td>\n",
       "      <td>-0.001001</td>\n",
       "      <td>0.026550</td>\n",
       "      <td>-0.039493</td>\n",
       "      <td>-0.022512</td>\n",
       "      <td>0.007207</td>\n",
       "      <td>49.0</td>\n",
       "    </tr>\n",
       "    <tr>\n",
       "      <th>3</th>\n",
       "      <td>0.048974</td>\n",
       "      <td>0.050680</td>\n",
       "      <td>0.081097</td>\n",
       "      <td>0.021872</td>\n",
       "      <td>0.043837</td>\n",
       "      <td>0.064134</td>\n",
       "      <td>-0.054446</td>\n",
       "      <td>0.071210</td>\n",
       "      <td>0.032433</td>\n",
       "      <td>0.048628</td>\n",
       "      <td>180.0</td>\n",
       "    </tr>\n",
       "    <tr>\n",
       "      <th>4</th>\n",
       "      <td>0.041708</td>\n",
       "      <td>0.050680</td>\n",
       "      <td>0.061696</td>\n",
       "      <td>-0.040099</td>\n",
       "      <td>-0.013953</td>\n",
       "      <td>0.006202</td>\n",
       "      <td>-0.028674</td>\n",
       "      <td>-0.002592</td>\n",
       "      <td>-0.014956</td>\n",
       "      <td>0.011349</td>\n",
       "      <td>110.0</td>\n",
       "    </tr>\n",
       "  </tbody>\n",
       "</table>\n",
       "</div>"
      ],
      "text/plain": [
       "      # age       sex       bmi        bp        s1        s2        s3  \\\n",
       "0 -0.049105 -0.044642  0.160855 -0.046985 -0.029088 -0.019790 -0.047082   \n",
       "1 -0.070900  0.050680 -0.089197 -0.074528 -0.042848 -0.025739 -0.032356   \n",
       "2  0.001751 -0.044642 -0.070875 -0.022885 -0.001569 -0.001001  0.026550   \n",
       "3  0.048974  0.050680  0.081097  0.021872  0.043837  0.064134 -0.054446   \n",
       "4  0.041708  0.050680  0.061696 -0.040099 -0.013953  0.006202 -0.028674   \n",
       "\n",
       "         s4        s5        s6      Y  \n",
       "0  0.034309  0.028017  0.011349  346.0  \n",
       "1 -0.002592 -0.012908 -0.054925  104.0  \n",
       "2 -0.039493 -0.022512  0.007207   49.0  \n",
       "3  0.071210  0.032433  0.048628  180.0  \n",
       "4 -0.002592 -0.014956  0.011349  110.0  "
      ]
     },
     "execution_count": 20,
     "metadata": {},
     "output_type": "execute_result"
    }
   ],
   "source": [
    "df.head()"
   ]
  },
  {
   "cell_type": "code",
   "execution_count": 21,
   "id": "8bae35c6",
   "metadata": {},
   "outputs": [
    {
     "data": {
      "text/plain": [
       "(331, 11)"
      ]
     },
     "execution_count": 21,
     "metadata": {},
     "output_type": "execute_result"
    }
   ],
   "source": [
    "df.shape"
   ]
  },
  {
   "cell_type": "code",
   "execution_count": 22,
   "id": "d7f0de0f",
   "metadata": {},
   "outputs": [],
   "source": [
    "X = df.iloc[:,:-1]"
   ]
  },
  {
   "cell_type": "code",
   "execution_count": 23,
   "id": "276e43b9",
   "metadata": {},
   "outputs": [
    {
     "data": {
      "text/plain": [
       "(331, 10)"
      ]
     },
     "execution_count": 23,
     "metadata": {},
     "output_type": "execute_result"
    }
   ],
   "source": [
    "X.shape"
   ]
  },
  {
   "cell_type": "code",
   "execution_count": 31,
   "id": "ab282c12",
   "metadata": {},
   "outputs": [],
   "source": [
    "y = df['Y']"
   ]
  },
  {
   "cell_type": "code",
   "execution_count": 32,
   "id": "bd9b0247",
   "metadata": {},
   "outputs": [
    {
     "data": {
      "text/plain": [
       "(331,)"
      ]
     },
     "execution_count": 32,
     "metadata": {},
     "output_type": "execute_result"
    }
   ],
   "source": [
    "y.shape"
   ]
  },
  {
   "cell_type": "code",
   "execution_count": 33,
   "id": "c2646cb5",
   "metadata": {},
   "outputs": [],
   "source": [
    "from sklearn.linear_model import LinearRegression"
   ]
  },
  {
   "cell_type": "code",
   "execution_count": 34,
   "id": "ee2037e3",
   "metadata": {},
   "outputs": [],
   "source": [
    "lm = LinearRegression()"
   ]
  },
  {
   "cell_type": "code",
   "execution_count": 35,
   "id": "70dfdcf4",
   "metadata": {},
   "outputs": [
    {
     "data": {
      "text/plain": [
       "LinearRegression()"
      ]
     },
     "execution_count": 35,
     "metadata": {},
     "output_type": "execute_result"
    }
   ],
   "source": [
    "lm.fit(X, y)"
   ]
  },
  {
   "cell_type": "code",
   "execution_count": 36,
   "id": "45b351cd",
   "metadata": {},
   "outputs": [
    {
     "name": "stdout",
     "output_type": "stream",
     "text": [
      "[  21.73408096 -256.66866675  569.60940087  303.63233545 -833.11088526\n",
      "  525.74313633  136.07129167  140.89458927  731.44498492   53.32119133]\n"
     ]
    }
   ],
   "source": [
    "print(lm.coef_)"
   ]
  },
  {
   "cell_type": "code",
   "execution_count": 37,
   "id": "9cec0c27",
   "metadata": {},
   "outputs": [
    {
     "name": "stdout",
     "output_type": "stream",
     "text": [
      "150.702574894566\n"
     ]
    }
   ],
   "source": [
    "print(lm.intercept_)"
   ]
  },
  {
   "cell_type": "code",
   "execution_count": 39,
   "id": "61f726ac",
   "metadata": {},
   "outputs": [],
   "source": [
    "X_test = pd.read_csv(\"test_diabetes_x_test.csv\")"
   ]
  },
  {
   "cell_type": "code",
   "execution_count": 40,
   "id": "ba087ff9",
   "metadata": {},
   "outputs": [
    {
     "data": {
      "text/html": [
       "<div>\n",
       "<style scoped>\n",
       "    .dataframe tbody tr th:only-of-type {\n",
       "        vertical-align: middle;\n",
       "    }\n",
       "\n",
       "    .dataframe tbody tr th {\n",
       "        vertical-align: top;\n",
       "    }\n",
       "\n",
       "    .dataframe thead th {\n",
       "        text-align: right;\n",
       "    }\n",
       "</style>\n",
       "<table border=\"1\" class=\"dataframe\">\n",
       "  <thead>\n",
       "    <tr style=\"text-align: right;\">\n",
       "      <th></th>\n",
       "      <th>0.02354575262934580082</th>\n",
       "      <th>0.05068011873981870252</th>\n",
       "      <th>-0.03746250427835440266</th>\n",
       "      <th>-0.04698505887976939938</th>\n",
       "      <th>-0.09100589560328480043</th>\n",
       "      <th>-0.07553006287033779687</th>\n",
       "      <th>-0.03235593223976569732</th>\n",
       "      <th>-0.03949338287409189657</th>\n",
       "      <th>-0.03075120986455629965</th>\n",
       "      <th>-0.01350401824497050006</th>\n",
       "    </tr>\n",
       "  </thead>\n",
       "  <tbody>\n",
       "    <tr>\n",
       "      <th>0</th>\n",
       "      <td>-0.078165</td>\n",
       "      <td>-0.044642</td>\n",
       "      <td>-0.073030</td>\n",
       "      <td>-0.057314</td>\n",
       "      <td>-0.084126</td>\n",
       "      <td>-0.074277</td>\n",
       "      <td>-0.024993</td>\n",
       "      <td>-0.039493</td>\n",
       "      <td>-0.018118</td>\n",
       "      <td>-0.083920</td>\n",
       "    </tr>\n",
       "    <tr>\n",
       "      <th>1</th>\n",
       "      <td>-0.030942</td>\n",
       "      <td>0.050680</td>\n",
       "      <td>0.001339</td>\n",
       "      <td>-0.005671</td>\n",
       "      <td>0.064477</td>\n",
       "      <td>0.049416</td>\n",
       "      <td>-0.047082</td>\n",
       "      <td>0.108111</td>\n",
       "      <td>0.083797</td>\n",
       "      <td>0.003064</td>\n",
       "    </tr>\n",
       "    <tr>\n",
       "      <th>2</th>\n",
       "      <td>-0.005515</td>\n",
       "      <td>0.050680</td>\n",
       "      <td>0.001339</td>\n",
       "      <td>-0.084857</td>\n",
       "      <td>-0.011201</td>\n",
       "      <td>-0.016658</td>\n",
       "      <td>0.048640</td>\n",
       "      <td>-0.039493</td>\n",
       "      <td>-0.041180</td>\n",
       "      <td>-0.088062</td>\n",
       "    </tr>\n",
       "    <tr>\n",
       "      <th>3</th>\n",
       "      <td>-0.020045</td>\n",
       "      <td>-0.044642</td>\n",
       "      <td>-0.084886</td>\n",
       "      <td>-0.026328</td>\n",
       "      <td>-0.035968</td>\n",
       "      <td>-0.034194</td>\n",
       "      <td>0.041277</td>\n",
       "      <td>-0.051671</td>\n",
       "      <td>-0.082381</td>\n",
       "      <td>-0.046641</td>\n",
       "    </tr>\n",
       "    <tr>\n",
       "      <th>4</th>\n",
       "      <td>-0.034575</td>\n",
       "      <td>-0.044642</td>\n",
       "      <td>-0.037463</td>\n",
       "      <td>-0.060757</td>\n",
       "      <td>0.020446</td>\n",
       "      <td>0.043466</td>\n",
       "      <td>-0.013948</td>\n",
       "      <td>-0.002592</td>\n",
       "      <td>-0.030751</td>\n",
       "      <td>-0.071494</td>\n",
       "    </tr>\n",
       "  </tbody>\n",
       "</table>\n",
       "</div>"
      ],
      "text/plain": [
       "   0.02354575262934580082  0.05068011873981870252  -0.03746250427835440266  \\\n",
       "0               -0.078165               -0.044642                -0.073030   \n",
       "1               -0.030942                0.050680                 0.001339   \n",
       "2               -0.005515                0.050680                 0.001339   \n",
       "3               -0.020045               -0.044642                -0.084886   \n",
       "4               -0.034575               -0.044642                -0.037463   \n",
       "\n",
       "   -0.04698505887976939938  -0.09100589560328480043  -0.07553006287033779687  \\\n",
       "0                -0.057314                -0.084126                -0.074277   \n",
       "1                -0.005671                 0.064477                 0.049416   \n",
       "2                -0.084857                -0.011201                -0.016658   \n",
       "3                -0.026328                -0.035968                -0.034194   \n",
       "4                -0.060757                 0.020446                 0.043466   \n",
       "\n",
       "   -0.03235593223976569732  -0.03949338287409189657  -0.03075120986455629965  \\\n",
       "0                -0.024993                -0.039493                -0.018118   \n",
       "1                -0.047082                 0.108111                 0.083797   \n",
       "2                 0.048640                -0.039493                -0.041180   \n",
       "3                 0.041277                -0.051671                -0.082381   \n",
       "4                -0.013948                -0.002592                -0.030751   \n",
       "\n",
       "   -0.01350401824497050006  \n",
       "0                -0.083920  \n",
       "1                 0.003064  \n",
       "2                -0.088062  \n",
       "3                -0.046641  \n",
       "4                -0.071494  "
      ]
     },
     "execution_count": 40,
     "metadata": {},
     "output_type": "execute_result"
    }
   ],
   "source": [
    "X_test.head()"
   ]
  },
  {
   "cell_type": "code",
   "execution_count": 45,
   "id": "e51dd705",
   "metadata": {},
   "outputs": [
    {
     "data": {
      "text/plain": [
       "(110, 10)"
      ]
     },
     "execution_count": 45,
     "metadata": {},
     "output_type": "execute_result"
    }
   ],
   "source": [
    "X_test.shape"
   ]
  },
  {
   "cell_type": "code",
   "execution_count": 41,
   "id": "2e081abf",
   "metadata": {},
   "outputs": [
    {
     "name": "stderr",
     "output_type": "stream",
     "text": [
      "C:\\Users\\Home\\anaconda3\\lib\\site-packages\\sklearn\\base.py:493: FutureWarning: The feature names should match those that were passed during fit. Starting version 1.2, an error will be raised.\n",
      "Feature names unseen at fit time:\n",
      "- -0.01350401824497050006\n",
      "- -0.03075120986455629965\n",
      "- -0.03235593223976569732\n",
      "- -0.03746250427835440266\n",
      "- -0.03949338287409189657\n",
      "- ...\n",
      "Feature names seen at fit time, yet now missing:\n",
      "- # age\n",
      "- bmi\n",
      "- bp\n",
      "- s1\n",
      "- s2\n",
      "- ...\n",
      "\n",
      "  warnings.warn(message, FutureWarning)\n"
     ]
    }
   ],
   "source": [
    "predictions = lm.predict(X_test)"
   ]
  },
  {
   "cell_type": "code",
   "execution_count": 42,
   "id": "61dd28bf",
   "metadata": {},
   "outputs": [
    {
     "data": {
      "text/plain": [
       "array([105.8039198 , 178.60857225,  79.3828781 ,  52.95868706,\n",
       "        98.87263854, 150.71755448,  34.86515216, 113.13535727,\n",
       "       161.50184038, 135.8615611 ,  94.71592222, 138.48094422,\n",
       "       141.37441723, 158.76862662, 171.65288616, 106.44835654,\n",
       "       103.92659639,  95.38693889, 167.40118092, 166.53426278,\n",
       "       101.53464712, 252.45035972, 147.02258547, 214.78906632,\n",
       "       161.27557106, 210.61315228,  71.78091585, 189.65032431,\n",
       "       206.6134259 , 219.98643455, 168.80192534, 116.84846127,\n",
       "       178.74399639,  77.03247418,  59.54633214, 111.5673781 ,\n",
       "       156.95186739, 154.59591259, 198.94457493, 115.53884017,\n",
       "       153.46699024,  84.96179518, 113.70337192, 142.14155617,\n",
       "       147.31040378,  82.78072358,  77.89237327, 128.99006192,\n",
       "       261.58712282, 213.31187775, 243.98791257, 167.68132094,\n",
       "       183.69712124, 166.85926884, 202.11440188, 220.39235543,\n",
       "       172.40288024, 176.60897931, 109.04656567, 276.37789836,\n",
       "        90.99941821, 289.37221147, 119.56253351,  75.45687948,\n",
       "       180.78598759, 146.62093081, 156.42382465,  41.079036  ,\n",
       "       247.90645166, 207.99121432,  90.09641075, 222.24169638,\n",
       "       189.86378006, 182.2695376 , 164.39881376, 190.27066587,\n",
       "       105.4486795 , 199.86136394, 245.796388  , 123.20281334,\n",
       "       119.41031908, 145.86620411, 206.19247291, 150.86282453,\n",
       "       142.23221646, 154.56874616, 115.29233396, 134.07810123,\n",
       "       118.42225404, 203.5767555 , 170.66483797, 127.409797  ,\n",
       "        57.13507634, 231.92226503, 185.20713654, 187.37494558,\n",
       "        83.55920849, 185.42585685, 217.34035639, 108.86715354,\n",
       "        80.98714568, 127.05524123, 242.00738792, 155.9723414 ,\n",
       "       125.67575276, 246.41235643, 234.963933  , 191.51298252,\n",
       "       168.33254477, 163.02965178])"
      ]
     },
     "execution_count": 42,
     "metadata": {},
     "output_type": "execute_result"
    }
   ],
   "source": [
    "predictions"
   ]
  },
  {
   "cell_type": "code",
   "execution_count": 49,
   "id": "535e04f0",
   "metadata": {},
   "outputs": [
    {
     "data": {
      "text/plain": [
       "(110,)"
      ]
     },
     "execution_count": 49,
     "metadata": {},
     "output_type": "execute_result"
    }
   ],
   "source": [
    "predictions.shape"
   ]
  },
  {
   "cell_type": "code",
   "execution_count": 53,
   "id": "8d35066f",
   "metadata": {},
   "outputs": [],
   "source": [
    "np.savetxt(\"predictions_diabetes_CN.csv\", predictions, delimiter=\",\", fmt=\"%.5f\")"
   ]
  },
  {
   "cell_type": "code",
   "execution_count": null,
   "id": "0d7f8a52",
   "metadata": {},
   "outputs": [],
   "source": []
  }
 ],
 "metadata": {
  "kernelspec": {
   "display_name": "Python 3 (ipykernel)",
   "language": "python",
   "name": "python3"
  },
  "language_info": {
   "codemirror_mode": {
    "name": "ipython",
    "version": 3
   },
   "file_extension": ".py",
   "mimetype": "text/x-python",
   "name": "python",
   "nbconvert_exporter": "python",
   "pygments_lexer": "ipython3",
   "version": "3.9.12"
  }
 },
 "nbformat": 4,
 "nbformat_minor": 5
}
